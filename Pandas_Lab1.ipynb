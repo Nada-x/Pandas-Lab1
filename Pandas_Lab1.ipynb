{
 "cells": [
  {
   "cell_type": "code",
   "execution_count": 17,
   "id": "369d734c-747c-4b37-bb62-79f0a4431924",
   "metadata": {},
   "outputs": [
    {
     "name": "stdout",
     "output_type": "stream",
     "text": [
      "Requirement already satisfied: pandas in /Library/Frameworks/Python.framework/Versions/3.11/lib/python3.11/site-packages (2.1.2)\n",
      "Requirement already satisfied: numpy<2,>=1.23.2 in /Library/Frameworks/Python.framework/Versions/3.11/lib/python3.11/site-packages (from pandas) (1.26.1)\n",
      "Requirement already satisfied: python-dateutil>=2.8.2 in /Library/Frameworks/Python.framework/Versions/3.11/lib/python3.11/site-packages (from pandas) (2.8.2)\n",
      "Requirement already satisfied: pytz>=2020.1 in /Library/Frameworks/Python.framework/Versions/3.11/lib/python3.11/site-packages (from pandas) (2023.3.post1)\n",
      "Requirement already satisfied: tzdata>=2022.1 in /Library/Frameworks/Python.framework/Versions/3.11/lib/python3.11/site-packages (from pandas) (2023.3)\n",
      "Requirement already satisfied: six>=1.5 in /Library/Frameworks/Python.framework/Versions/3.11/lib/python3.11/site-packages (from python-dateutil>=2.8.2->pandas) (1.16.0)\n",
      "\n",
      "\u001b[1m[\u001b[0m\u001b[34;49mnotice\u001b[0m\u001b[1;39;49m]\u001b[0m\u001b[39;49m A new release of pip is available: \u001b[0m\u001b[31;49m23.2.1\u001b[0m\u001b[39;49m -> \u001b[0m\u001b[32;49m23.3.1\u001b[0m\n",
      "\u001b[1m[\u001b[0m\u001b[34;49mnotice\u001b[0m\u001b[1;39;49m]\u001b[0m\u001b[39;49m To update, run: \u001b[0m\u001b[32;49mpip install --upgrade pip\u001b[0m\n",
      "Note: you may need to restart the kernel to use updated packages.\n"
     ]
    }
   ],
   "source": [
    "pip install pandas"
   ]
  },
  {
   "cell_type": "markdown",
   "id": "c8502047",
   "metadata": {},
   "source": [
    "## Q1: Create a Series with indexes = 1, 2, 3 and has three names."
   ]
  },
  {
   "cell_type": "code",
   "execution_count": 15,
   "id": "86ac17f5-92ee-40c8-8edb-f748733f5a90",
   "metadata": {},
   "outputs": [],
   "source": [
    "import pandas as pd"
   ]
  },
  {
   "cell_type": "code",
   "execution_count": 16,
   "id": "dc122631",
   "metadata": {},
   "outputs": [
    {
     "data": {
      "text/plain": [
       "1    Nourah\n",
       "2     Sarah\n",
       "3     Ahmed\n",
       "dtype: object"
      ]
     },
     "execution_count": 16,
     "metadata": {},
     "output_type": "execute_result"
    }
   ],
   "source": [
    "index = [1, 2, 3]\n",
    "names = ['Nourah', 'Sarah', 'Ahmed']\n",
    "\n",
    "series=pd.Series(names, index=index)\n",
    "series"
   ]
  },
  {
   "cell_type": "markdown",
   "id": "443e73f6",
   "metadata": {},
   "source": [
    "## Q2: Change indexes to 11, 12, 13."
   ]
  },
  {
   "cell_type": "code",
   "execution_count": 35,
   "id": "ae224dba",
   "metadata": {},
   "outputs": [
    {
     "data": {
      "text/plain": [
       "11    Nourah\n",
       "12     Sarah\n",
       "13     Ahmed\n",
       "dtype: object"
      ]
     },
     "execution_count": 35,
     "metadata": {},
     "output_type": "execute_result"
    }
   ],
   "source": [
    "index = [11, 12, 13]\n",
    "names = ['Nourah', 'Sarah', 'Ahmed']\n",
    "\n",
    "s1 = pd.Series(names, index=index)\n",
    "s1"
   ]
  },
  {
   "cell_type": "markdown",
   "id": "7f562099",
   "metadata": {},
   "source": [
    "## Q3: Retrieve First and second elements."
   ]
  },
  {
   "cell_type": "code",
   "execution_count": 36,
   "id": "bbe9dee3",
   "metadata": {},
   "outputs": [
    {
     "name": "stdout",
     "output_type": "stream",
     "text": [
      "First element: Nourah\n",
      "Second element: Sarah\n"
     ]
    }
   ],
   "source": [
    "first_element = series[11]\n",
    "second_element = series[12]\n",
    "\n",
    "print(\"First element:\", first_element)\n",
    "print(\"Second element:\", second_element)"
   ]
  },
  {
   "cell_type": "markdown",
   "id": "c771754d",
   "metadata": {},
   "source": [
    "## Q4: Add duplicate elements, then remove the duplication."
   ]
  },
  {
   "cell_type": "code",
   "execution_count": 1,
   "id": "cf5a1d1a",
   "metadata": {},
   "outputs": [
    {
     "ename": "NameError",
     "evalue": "name 'pd' is not defined",
     "output_type": "error",
     "traceback": [
      "\u001b[0;31m---------------------------------------------------------------------------\u001b[0m",
      "\u001b[0;31mNameError\u001b[0m                                 Traceback (most recent call last)",
      "Cell \u001b[0;32mIn[1], line 1\u001b[0m\n\u001b[0;32m----> 1\u001b[0m s2\u001b[38;5;241m=\u001b[39m\u001b[43mpd\u001b[49m\u001b[38;5;241m.\u001b[39mSeries({\u001b[38;5;241m14\u001b[39m,Sarah})\n\u001b[1;32m      2\u001b[0m s2\n",
      "\u001b[0;31mNameError\u001b[0m: name 'pd' is not defined"
     ]
    }
   ],
   "source": [
    "s1=pd.Series({14,Sarah})\n",
    "s1\n"
   ]
  },
  {
   "cell_type": "code",
   "execution_count": 2,
   "id": "d3aaed2d",
   "metadata": {},
   "outputs": [
    {
     "ename": "NameError",
     "evalue": "name 'pd' is not defined",
     "output_type": "error",
     "traceback": [
      "\u001b[0;31m---------------------------------------------------------------------------\u001b[0m",
      "\u001b[0;31mNameError\u001b[0m                                 Traceback (most recent call last)",
      "Cell \u001b[0;32mIn[2], line 1\u001b[0m\n\u001b[0;32m----> 1\u001b[0m s2\u001b[38;5;241m=\u001b[39m\u001b[43mpd\u001b[49m\u001b[38;5;241m.\u001b[39mconact((s,s1))\n\u001b[1;32m      2\u001b[0m s2\n",
      "\u001b[0;31mNameError\u001b[0m: name 'pd' is not defined"
     ]
    }
   ],
   "source": [
    "s2=pd.conact((s,s1))\n",
    "s2"
   ]
  },
  {
   "cell_type": "markdown",
   "id": "329164fe",
   "metadata": {},
   "source": [
    "## Q5: Create a Students DataFrame has three columns (ID, Name, GPA)."
   ]
  },
  {
   "cell_type": "code",
   "execution_count": 24,
   "id": "873e1727",
   "metadata": {},
   "outputs": [
    {
     "name": "stdout",
     "output_type": "stream",
     "text": [
      "   ID   Name  GPA\n",
      "0   1  Majed  3.8\n",
      "1   2   Lama  3.9\n",
      "2   3  Noura  3.5\n"
     ]
    }
   ],
   "source": [
    " data = {\n",
    "    'ID': [1, 2, 3],\n",
    "    'Name': ['Majed', 'Lama', 'Noura'],\n",
    "    'GPA': [3.8, 3.9, 3.5]\n",
    "}\n",
    "\n",
    "students_df = pd.DataFrame(data)\n",
    "print(students_df)"
   ]
  },
  {
   "cell_type": "markdown",
   "id": "2808d244",
   "metadata": {},
   "source": [
    "## Q6: Read educ_figdp_1_Data.csv file and print the head."
   ]
  },
  {
   "cell_type": "code",
   "execution_count": 25,
   "id": "3b0baf98",
   "metadata": {},
   "outputs": [
    {
     "name": "stdout",
     "output_type": "stream",
     "text": [
      "   TIME                            GEO  \\\n",
      "0  2000  European Union (28 countries)   \n",
      "1  2001  European Union (28 countries)   \n",
      "2  2002  European Union (28 countries)   \n",
      "3  2003  European Union (28 countries)   \n",
      "4  2004  European Union (28 countries)   \n",
      "\n",
      "                                            INDIC_ED Value Flag and Footnotes  \n",
      "0  Total public expenditure on education as % of ...     :                NaN  \n",
      "1  Total public expenditure on education as % of ...     :                NaN  \n",
      "2  Total public expenditure on education as % of ...  5.00                  e  \n",
      "3  Total public expenditure on education as % of ...  5.03                  e  \n",
      "4  Total public expenditure on education as % of ...  4.95                  e  \n"
     ]
    }
   ],
   "source": [
    "df = pd.read_csv('educ_figdp_1_Data.csv')\n",
    "print(df.head())"
   ]
  },
  {
   "cell_type": "markdown",
   "id": "34574733",
   "metadata": {},
   "source": [
    "## Q7: Give an example shows the difference between loc and slicing?\n",
    "**Note:**\n",
    "- loc use the index labels as references.\n",
    "- slice use the position as references."
   ]
  },
  {
   "cell_type": "code",
   "execution_count": 27,
   "id": "0d5876f7",
   "metadata": {},
   "outputs": [
    {
     "name": "stdout",
     "output_type": "stream",
     "text": [
      "       A  B  C\n",
      "row2  20  2  b\n",
      "row3  30  3  c\n",
      "row4  40  4  d\n",
      "       A  B  C\n",
      "row2  20  2  b\n",
      "row3  30  3  c\n",
      "row4  40  4  d\n",
      "3\n",
      "3\n"
     ]
    },
    {
     "name": "stderr",
     "output_type": "stream",
     "text": [
      "/var/folders/qw/3vqmdm5n4f1122_km4rx62540000gn/T/ipykernel_36545/3708973311.py:19: FutureWarning: Series.__getitem__ treating keys as positions is deprecated. In a future version, integer keys will always be treated as labels (consistent with DataFrame behavior). To access a value by position, use `ser.iloc[pos]`\n",
      "  print(df['B'][2])\n"
     ]
    }
   ],
   "source": [
    "data = {\n",
    "    'A': [10, 20, 30, 40, 50],\n",
    "    'B': [1, 2, 3, 4, 5],\n",
    "    'C': ['a', 'b', 'c', 'd', 'e']\n",
    "}\n",
    "\n",
    "df = pd.DataFrame(data, index=['row1', 'row2', 'row3', 'row4', 'row5'])\n",
    "\n",
    "\n",
    "print(df.loc['row2':'row4'])\n",
    "\n",
    "# Using slicing to retrieve rows by position\n",
    "print(df[1:4])\n",
    "\n",
    "# Using loc to retrieve specific cells\n",
    "print(df.loc['row3', 'B'])\n",
    "\n",
    "# Using slicing to retrieve specific cells\n",
    "print(df['B'][2])"
   ]
  },
  {
   "cell_type": "code",
   "execution_count": null,
   "id": "693d5810-3e4e-41fd-889f-cc1eae302b12",
   "metadata": {},
   "outputs": [],
   "source": []
  }
 ],
 "metadata": {
  "kernelspec": {
   "display_name": "Python 3 (ipykernel)",
   "language": "python",
   "name": "python3"
  },
  "language_info": {
   "codemirror_mode": {
    "name": "ipython",
    "version": 3
   },
   "file_extension": ".py",
   "mimetype": "text/x-python",
   "name": "python",
   "nbconvert_exporter": "python",
   "pygments_lexer": "ipython3",
   "version": "3.11.4"
  }
 },
 "nbformat": 4,
 "nbformat_minor": 5
}
